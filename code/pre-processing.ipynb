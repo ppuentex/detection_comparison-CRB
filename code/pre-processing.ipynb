{
 "cells": [
  {
   "cell_type": "markdown",
   "id": "35133866",
   "metadata": {},
   "source": [
    "## Pre-processing Notebook\n",
    "\n",
    "This notebook contains instructions on how to access and download the data from the source, cropping the data for a given watershed boundary, calculating the mode (most frequent pixels) using Numba and Dask, reprojections, and Kronecker product to get Landsat and Sentinel datasets ready for comparison. \n",
    "\n",
    "*Note: These instructions are written for the Colorado River Basin specifically but can be applied elsewhere with a new changes on area of interest when downloading.*\n",
    "\n",
    "## Downloading the Data \n",
    "\n",
    "1. Yearly Surface Water History Data, 2015 - 2021 \n",
    "2. Dynamic World Global Surface Water Data, 2015 - 2023\n",
    "3. USGS NHDPlus Flowlines \n",
    "4. Watershed Boundary Dataset\n",
    "5. Palmer Drought Severity Index Data, 2015 - 2023\n",
    "6. Precipitation Data, 2015 - 2023\n",
    "\n",
    "### 1. Yearly Surface Water History Data, 2015 - 2021\n",
    "\n",
    "This dataset is part of the [Global Suface Water Dataset](https://global-surface-water.appspot.com/) from Pekel etal. 2016 *High-resolution mapping of global surface water and its long-term changes* ([DOI:10.1038/nature20584](https://www.nature.com/articles/nature20584)). \n",
    "\n",
    "The Yearly Water History Dataset contains annual classification of 30m pixels into four classifications – permanent water (pixel value - 3), seasonal water (2), not water (1), and no observation (0) from 1984-2021. Note for this study, we only used years 2015 through 2021.  \n",
    "\n",
    "Full detail description on how to download the tiles and processing them are located [here](https://github.com/ppuentex/Surface_Water_Analysis-CRB/blob/main/Codes/pre-processing.ipynb), this is a notebook I wrote for a separate project. \n",
    "\n",
    "**The final version of these files can be found in the folder `data/landsat-yearly/`**\n",
    "\n",
    "### 2. Dynamic World Global Surface Water Data, 2015 - 2023\n"
   ]
  },
  {
   "cell_type": "code",
   "execution_count": null,
   "id": "bf8cca37",
   "metadata": {},
   "outputs": [],
   "source": []
  },
  {
   "cell_type": "code",
   "execution_count": null,
   "id": "f375497c",
   "metadata": {},
   "outputs": [],
   "source": []
  }
 ],
 "metadata": {
  "kernelspec": {
   "display_name": "comparison-env",
   "language": "python",
   "name": "python3"
  },
  "language_info": {
   "name": "python",
   "version": "3.11.6"
  }
 },
 "nbformat": 4,
 "nbformat_minor": 5
}
